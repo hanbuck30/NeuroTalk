{
 "cells": [
  {
   "cell_type": "code",
   "execution_count": 10,
   "id": "1ec6d0d9-7b85-48c4-a16b-e428d8fb8ef7",
   "metadata": {},
   "outputs": [],
   "source": [
    "import os\n",
    "import shutil"
   ]
  },
  {
   "cell_type": "code",
   "execution_count": 11,
   "id": "40b76094-4574-4717-b3a6-6797c9749366",
   "metadata": {},
   "outputs": [
    {
     "data": {
      "text/plain": [
       "'/home/bxai1/BXAI/Project/NeuroTalk-decoder/Patients'"
      ]
     },
     "execution_count": 11,
     "metadata": {},
     "output_type": "execute_result"
    }
   ],
   "source": [
    "ori_path = os.getcwd()\n",
    "ori_path"
   ]
  },
  {
   "cell_type": "code",
   "execution_count": 12,
   "id": "d702bbc2-bd8d-47c7-86a3-75ca449ec079",
   "metadata": {},
   "outputs": [
    {
     "name": "stdout",
     "output_type": "stream",
     "text": [
      "'/home/bxai1/BXAI/Project/NeuroTalk-decoder/Patients/raw_data/Patient008/Spoken/Preprocessed' 폴더가 존재하지 않습니다.\n",
      "'/home/bxai1/BXAI/Project/NeuroTalk-decoder/Patients/raw_data/Patient009/Imagined/Preprocessed' 폴더가 존재하지 않습니다.\n",
      "'/home/bxai1/BXAI/Project/NeuroTalk-decoder/Patients/raw_data/Patient002/.ipynb_checkpoints/Preprocessed' 폴더가 존재하지 않습니다.\n"
     ]
    }
   ],
   "source": [
    "source_path = ori_path + '/raw_data'\n",
    "destination_path = ori_path + \"/preprocessed\"\n",
    "\n",
    "for patient in os.listdir(source_path):\n",
    "    task_path = os.path.join(source_path, patient)\n",
    "    for task in os.listdir(task_path):\n",
    "        preprocessed_folder = os.path.join(os.path.join(task_path, task), \"Preprocessed\")\n",
    "        destination_patient_path = os.path.join(destination_path, \"sub\"+patient[7:10])\n",
    "        destination_patient_task_path = os.path.join(destination_patient_path, task)\n",
    "        \n",
    "        try:\n",
    "            if not os.path.exists(destination_patient_task_path):\n",
    "                os.makedirs(destination_patient_task_path)\n",
    "            for item in os.listdir(preprocessed_folder):\n",
    "                item_path = os.path.join(preprocessed_folder, item)\n",
    "                shutil.move(item_path, destination_patient_task_path)\n",
    "        except FileNotFoundError:\n",
    "            print(f\"'{preprocessed_folder}' 폴더가 존재하지 않습니다.\")\n",
    "        except PermissionError:    \n",
    "            print(\"권한이 없어 실행할 수 없습니다.\")"
   ]
  },
  {
   "cell_type": "code",
   "execution_count": null,
   "id": "112fb5e6-3858-4e91-b528-b495ade6aaa9",
   "metadata": {},
   "outputs": [],
   "source": []
  }
 ],
 "metadata": {
  "kernelspec": {
   "display_name": "Python 3 (ipykernel)",
   "language": "python",
   "name": "python3"
  },
  "language_info": {
   "codemirror_mode": {
    "name": "ipython",
    "version": 3
   },
   "file_extension": ".py",
   "mimetype": "text/x-python",
   "name": "python",
   "nbconvert_exporter": "python",
   "pygments_lexer": "ipython3",
   "version": "3.10.12"
  }
 },
 "nbformat": 4,
 "nbformat_minor": 5
}
