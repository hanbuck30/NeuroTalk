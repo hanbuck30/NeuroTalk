{
 "cells": [
  {
   "cell_type": "code",
   "execution_count": 7,
   "metadata": {},
   "outputs": [],
   "source": [
    "import os"
   ]
  },
  {
   "cell_type": "code",
   "execution_count": 8,
   "metadata": {},
   "outputs": [],
   "source": [
    "sub_number = \"sub001\""
   ]
  },
  {
   "cell_type": "code",
   "execution_count": 9,
   "metadata": {},
   "outputs": [
    {
     "data": {
      "text/plain": [
       "'/home/bxai1/BXAI/Project/NeuroTalk-decoder/Patients'"
      ]
     },
     "execution_count": 9,
     "metadata": {},
     "output_type": "execute_result"
    }
   ],
   "source": [
    "os.getcwd()"
   ]
  },
  {
   "cell_type": "code",
   "execution_count": 10,
   "metadata": {},
   "outputs": [],
   "source": [
    "foundation_path = \"/home/bxai1/BXAI/Project/NeuroTalk-decoder/\""
   ]
  },
  {
   "cell_type": "code",
   "execution_count": 12,
   "metadata": {},
   "outputs": [],
   "source": [
    "path_patients = foundation_path + \"Patients/preprocessed/\" + sub_number +\"/\"\n",
    "\n",
    "path_about_voice = foundation_path+f\"Patients/{sub_number}/about_voice/\"\n",
    "path_imagined = foundation_path+f\"Patients/{sub_number}/imagined/\"\n",
    "path_pre_trained = foundation_path+f\"Patients/{sub_number}/pre_trained/\"\n",
    "path_spoken = foundation_path+f\"Patients/{sub_number}/spoken/\"\n",
    "\n",
    "pre_trained_mel = path_pre_trained+\"mel/\"\n",
    "pre_trained_wav = path_pre_trained+\"wav/\"\n",
    "\n",
    "\n",
    "path_voice = path_about_voice + f\"{sub_number}_voice\"\n",
    "path_wav = path_about_voice + f\"{sub_number}_wav\"\n",
    "path_mel = path_about_voice + f\"{sub_number}_mel\"\n",
    "path_csv = path_about_voice + f\"{sub_number}_csv\"\n",
    "\n",
    "path_dataset = foundation_path+ \"dataset/\"\n",
    "path_sub = path_dataset+sub_number +\"/\"\n",
    "\n",
    "path_sub_train = path_sub + \"train/\"\n",
    "path_sub_train_ImaginedEEG_vec = path_sub_train + \"ImaginedEEG_vec/\"\n",
    "path_sub_train_im_Y = path_sub_train + \"im_Y/\"\n",
    "path_sub_train_im_Y_mel = path_sub_train + \"im_Y_mel/\"\n",
    "path_sub_train_SpokenEEG_vec = path_sub_train + \"SpokenEEG_vec/\"\n",
    "path_sub_train_sp_Y = path_sub_train + \"sp_Y/\"\n",
    "path_sub_train_sp_Y_mel = path_sub_train + \"sp_Y_mel/\"\n",
    "\n",
    "path_sub_val = path_sub + \"val/\"\n",
    "path_sub_val_ImaginedEEG_vec = path_sub_val + \"ImaginedEEG_vec/\"\n",
    "path_sub_val_im_Y = path_sub_val + \"im_Y/\"\n",
    "path_sub_val_im_Y_mel = path_sub_val + \"im_Y_mel/\"\n",
    "path_sub_val_SpokenEEG_vec = path_sub_val + \"SpokenEEG_vec/\"\n",
    "path_sub_val_sp_Y = path_sub_val + \"sp_Y/\"\n",
    "path_sub_val_sp_Y_mel = path_sub_val + \"sp_Y_mel/\"\n",
    "\n",
    "path_sub_test = path_sub + \"test/\"\n",
    "path_sub_test_ImaginedEEG_vec = path_sub_test + \"ImaginedEEG_vec/\"\n",
    "path_sub_test_im_Y = path_sub_test + \"im_Y/\"\n",
    "path_sub_test_im_Y_mel = path_sub_test + \"im_Y_mel/\"\n",
    "path_sub_test_SpokenEEG_vec = path_sub_test + \"SpokenEEG_vec/\"\n",
    "path_sub_test_sp_Y = path_sub_test + \"sp_Y/\"\n",
    "path_sub_test_sp_Y_mel = path_sub_test + \"sp_Y_mel/\"\n",
    "\n",
    "path_csp = foundation_path + \"CSP/\"\n",
    "path_csp_subject = path_csp + sub_number + \"/\"\n",
    "\n",
    "path_train_result = foundation_path + \"TrainResult/\"\n",
    "path_train_result_sub = path_train_result+sub_number+\"/\"\n",
    "\n",
    "path_SpokenEEG = path_train_result_sub + \"SpokenEEG_vec/\"\n",
    "\n",
    "path_SpokenEEG_logs = path_SpokenEEG + \"logs/\"\n",
    "paht_SpokenEEG_savemodel = path_SpokenEEG + \"savemodel/\"\n",
    "\n",
    "path_ImaginedEEG = path_train_result_sub + \"ImaginedEEG_vec/\"\n",
    "\n",
    "path_ImaginedEEG_logs = path_ImaginedEEG + \"logs/\"\n",
    "paht_ImaginedEEG_savemodel = path_ImaginedEEG + \"savemodel/\"\n",
    "\n",
    "path_pretrained_sub =  foundation_path + \"pretrained_model/SpokenEEG/\" + sub_number +\"/\"\n",
    "\n",
    "path_list = [path_patients, path_about_voice,path_imagined, path_pre_trained, pre_trained_mel, pre_trained_wav, path_spoken,  path_csv, path_mel, path_voice, path_wav, path_sub, path_sub_train,path_sub_train_ImaginedEEG_vec, path_sub_train_im_Y, path_sub_train_im_Y_mel, path_sub_train_SpokenEEG_vec, path_sub_train_sp_Y, path_sub_train_sp_Y_mel, path_sub_val, path_sub_val_ImaginedEEG_vec, path_sub_val_im_Y, path_sub_val_im_Y_mel, path_sub_val_SpokenEEG_vec, path_sub_val_sp_Y, path_sub_val_sp_Y_mel, path_sub_test,path_sub_test_ImaginedEEG_vec, path_sub_test_im_Y, path_sub_test_im_Y_mel, path_sub_test_SpokenEEG_vec, path_sub_test_sp_Y, path_sub_test_sp_Y_mel, path_csp_subject,  path_train_result_sub, path_SpokenEEG, path_SpokenEEG_logs, paht_SpokenEEG_savemodel, path_ImaginedEEG, path_ImaginedEEG_logs, paht_ImaginedEEG_savemodel, path_pretrained_sub ]\n",
    "\n",
    "for pat in path_list:\n",
    "    if not os.path.exists(pat):\n",
    "        os.makedirs(pat, exist_ok=True)"
   ]
  },
  {
   "cell_type": "code",
   "execution_count": 5,
   "metadata": {},
   "outputs": [
    {
     "ename": "FileNotFoundError",
     "evalue": "[Errno 2] No such file or directory: 'EEG_analysis.ipynb'",
     "output_type": "error",
     "traceback": [
      "\u001b[1;31m---------------------------------------------------------------------------\u001b[0m",
      "\u001b[1;31mFileNotFoundError\u001b[0m                         Traceback (most recent call last)",
      "Cell \u001b[1;32mIn[5], line 5\u001b[0m\n\u001b[0;32m      3\u001b[0m \u001b[38;5;28;01mfor\u001b[39;00m i, func \u001b[38;5;129;01min\u001b[39;00m \u001b[38;5;28menumerate\u001b[39m(func_list):\n\u001b[0;32m      4\u001b[0m     \u001b[38;5;28;01mif\u001b[39;00m func_list[i]\u001b[38;5;241m.\u001b[39mfind(\u001b[38;5;124m'\u001b[39m\u001b[38;5;124mEEG\u001b[39m\u001b[38;5;124m'\u001b[39m) \u001b[38;5;241m!=\u001b[39m \u001b[38;5;241m-\u001b[39m\u001b[38;5;241m1\u001b[39m:\n\u001b[1;32m----> 5\u001b[0m         \u001b[43mshutil\u001b[49m\u001b[38;5;241;43m.\u001b[39;49m\u001b[43mcopy\u001b[49m\u001b[43m(\u001b[49m\u001b[43mfunc_list\u001b[49m\u001b[43m[\u001b[49m\u001b[43mi\u001b[49m\u001b[43m]\u001b[49m\u001b[43m,\u001b[49m\u001b[43m \u001b[49m\u001b[43mpath_patients\u001b[49m\u001b[43m)\u001b[49m\n\u001b[0;32m      6\u001b[0m     \u001b[38;5;28;01melif\u001b[39;00m func_list[i]\u001b[38;5;241m.\u001b[39mfind(\u001b[38;5;124m'\u001b[39m\u001b[38;5;124mmake\u001b[39m\u001b[38;5;124m'\u001b[39m):\n\u001b[0;32m      7\u001b[0m         shutil\u001b[38;5;241m.\u001b[39mcopy(func_list[i], path_about_voice)\n",
      "File \u001b[1;32mc:\\Users\\BXAI_SERVER\\AppData\\Local\\Programs\\Python\\Python39\\lib\\shutil.py:427\u001b[0m, in \u001b[0;36mcopy\u001b[1;34m(src, dst, follow_symlinks)\u001b[0m\n\u001b[0;32m    425\u001b[0m \u001b[38;5;28;01mif\u001b[39;00m os\u001b[38;5;241m.\u001b[39mpath\u001b[38;5;241m.\u001b[39misdir(dst):\n\u001b[0;32m    426\u001b[0m     dst \u001b[38;5;241m=\u001b[39m os\u001b[38;5;241m.\u001b[39mpath\u001b[38;5;241m.\u001b[39mjoin(dst, os\u001b[38;5;241m.\u001b[39mpath\u001b[38;5;241m.\u001b[39mbasename(src))\n\u001b[1;32m--> 427\u001b[0m \u001b[43mcopyfile\u001b[49m\u001b[43m(\u001b[49m\u001b[43msrc\u001b[49m\u001b[43m,\u001b[49m\u001b[43m \u001b[49m\u001b[43mdst\u001b[49m\u001b[43m,\u001b[49m\u001b[43m \u001b[49m\u001b[43mfollow_symlinks\u001b[49m\u001b[38;5;241;43m=\u001b[39;49m\u001b[43mfollow_symlinks\u001b[49m\u001b[43m)\u001b[49m\n\u001b[0;32m    428\u001b[0m copymode(src, dst, follow_symlinks\u001b[38;5;241m=\u001b[39mfollow_symlinks)\n\u001b[0;32m    429\u001b[0m \u001b[38;5;28;01mreturn\u001b[39;00m dst\n",
      "File \u001b[1;32mc:\\Users\\BXAI_SERVER\\AppData\\Local\\Programs\\Python\\Python39\\lib\\shutil.py:264\u001b[0m, in \u001b[0;36mcopyfile\u001b[1;34m(src, dst, follow_symlinks)\u001b[0m\n\u001b[0;32m    262\u001b[0m     os\u001b[38;5;241m.\u001b[39msymlink(os\u001b[38;5;241m.\u001b[39mreadlink(src), dst)\n\u001b[0;32m    263\u001b[0m \u001b[38;5;28;01melse\u001b[39;00m:\n\u001b[1;32m--> 264\u001b[0m     \u001b[38;5;28;01mwith\u001b[39;00m \u001b[38;5;28;43mopen\u001b[39;49m\u001b[43m(\u001b[49m\u001b[43msrc\u001b[49m\u001b[43m,\u001b[49m\u001b[43m \u001b[49m\u001b[38;5;124;43m'\u001b[39;49m\u001b[38;5;124;43mrb\u001b[39;49m\u001b[38;5;124;43m'\u001b[39;49m\u001b[43m)\u001b[49m \u001b[38;5;28;01mas\u001b[39;00m fsrc:\n\u001b[0;32m    265\u001b[0m         \u001b[38;5;28;01mtry\u001b[39;00m:\n\u001b[0;32m    266\u001b[0m             \u001b[38;5;28;01mwith\u001b[39;00m \u001b[38;5;28mopen\u001b[39m(dst, \u001b[38;5;124m'\u001b[39m\u001b[38;5;124mwb\u001b[39m\u001b[38;5;124m'\u001b[39m) \u001b[38;5;28;01mas\u001b[39;00m fdst:\n\u001b[0;32m    267\u001b[0m                 \u001b[38;5;66;03m# macOS\u001b[39;00m\n",
      "\u001b[1;31mFileNotFoundError\u001b[0m: [Errno 2] No such file or directory: 'EEG_analysis.ipynb'"
     ]
    }
   ],
   "source": [
    "# import shutil\n",
    "# func_list = os.listdir(foundation_path + \"collection_of_function\")\n",
    "# for i, func in enumerate(func_list):\n",
    "#     if func_list[i].find('EEG') != -1:\n",
    "#         shutil.copy(func_list[i], path_patients)\n",
    "#     elif func_list[i].find('make'):\n",
    "#         shutil.copy(func_list[i], path_about_voice)\n",
    "#     elif func_list[i].find('pre_'):\n",
    "#         shutil.copy(func_list[i], path_pre_trained)\n",
    "#     elif func_list[i].find('wav'):\n",
    "#         shutil.copy(func_list[i], path_about_voice)"
   ]
  }
 ],
 "metadata": {
  "kernelspec": {
   "display_name": "Python 3 (ipykernel)",
   "language": "python",
   "name": "python3"
  },
  "language_info": {
   "codemirror_mode": {
    "name": "ipython",
    "version": 3
   },
   "file_extension": ".py",
   "mimetype": "text/x-python",
   "name": "python",
   "nbconvert_exporter": "python",
   "pygments_lexer": "ipython3",
   "version": "3.10.12"
  }
 },
 "nbformat": 4,
 "nbformat_minor": 4
}
